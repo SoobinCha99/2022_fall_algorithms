{
 "cells": [
  {
   "cell_type": "code",
   "execution_count": 23,
   "metadata": {},
   "outputs": [
    {
     "name": "stdout",
     "output_type": "stream",
     "text": [
      "덧셈 공부를 해봅시다!\n",
      "89 + 23 = 112\n",
      "잘했어요!\n",
      "49 + 2 = 51\n",
      "잘했어요!\n",
      "61 + 66 = 1\n",
      "틀렸어요. 하지만 다음번에는 잘할 수 있죠?\n",
      "총 맞힌 문제의 수 2\n"
     ]
    }
   ],
   "source": [
    "#1st question \n",
    "\n",
    "import random #import module for random number\n",
    "\n",
    "print(\"덧셈 공부를 해봅시다!\")\n",
    "\n",
    "count = 0 #variable to count correct problems\n",
    "\n",
    "for i in range(0,9999):\n",
    "    a = random.randrange(1,100) #create random int variable \n",
    "    b = random.randrange(1,100)\n",
    "    answer = a+b #calculate correct answer \n",
    "\n",
    "    print(a,\"+\",b,\"=\", end=' ') #show user the problem \n",
    "    user_input = int(input()) #create input variable \n",
    "    print(user_input) \n",
    "\n",
    "    if user_input == answer: #when correct \n",
    "        print(\"잘했어요!\")\n",
    "        count = count + 1 #update count variable \n",
    "    else: #when incorrect \n",
    "        print(\"틀렸어요. 하지만 다음번에는 잘할 수 있죠?\")\n",
    "        print(\"총 맞힌 문제의 수\",count) #show num of correct problems   \n",
    "        break "
   ]
  },
  {
   "cell_type": "code",
   "execution_count": 39,
   "metadata": {},
   "outputs": [
    {
     "name": "stdout",
     "output_type": "stream",
     "text": [
      "숫자 4개 입력(작성 예시: 1 2 3 4)\n",
      "불합격\n"
     ]
    }
   ],
   "source": [
    "#2nd question\n",
    "\n",
    "print(\"숫자 4개 입력(작성 예시: 1 2 3 4)\")\n",
    "\n",
    "x,y,w,z = input().split()\n",
    "x,y,w,z = int(x), int(y), int(w), int(z)\n",
    "\n",
    "avg_condition = (x+y+w+z) / 4 > 60 \n",
    "min_condition = x>40 & y>40 & w>40 & z>40 \n",
    "\n",
    "if avg_condition == True & min_condition == True:\n",
    "    print(\"합격\")\n",
    "else: \n",
    "    print(\"불합격\")\n"
   ]
  },
  {
   "cell_type": "code",
   "execution_count": 42,
   "metadata": {},
   "outputs": [
    {
     "name": "stdout",
     "output_type": "stream",
     "text": [
      "주민 등록 번호를 입력하세요.(001212-4)\n",
      "990304-1\n"
     ]
    }
   ],
   "source": [
    "#3rd question \n",
    "\n",
    "print(\"주민 등록 번호를 입력하세요.(001212-4)\")\n",
    "user_input = input() \n",
    "print(user_input)"
   ]
  },
  {
   "cell_type": "code",
   "execution_count": null,
   "metadata": {},
   "outputs": [],
   "source": []
  }
 ],
 "metadata": {
  "kernelspec": {
   "display_name": "Python 3.7.13 ('main_env')",
   "language": "python",
   "name": "python3"
  },
  "language_info": {
   "codemirror_mode": {
    "name": "ipython",
    "version": 3
   },
   "file_extension": ".py",
   "mimetype": "text/x-python",
   "name": "python",
   "nbconvert_exporter": "python",
   "pygments_lexer": "ipython3",
   "version": "3.7.13"
  },
  "orig_nbformat": 4,
  "vscode": {
   "interpreter": {
    "hash": "1153c11ae87076ae6621cdc5d7329613c33efc385af2aabe3f954ec07174675d"
   }
  }
 },
 "nbformat": 4,
 "nbformat_minor": 2
}
