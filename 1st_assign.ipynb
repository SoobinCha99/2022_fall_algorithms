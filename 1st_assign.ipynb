{
 "cells": [
  {
   "cell_type": "code",
   "execution_count": 1,
   "metadata": {},
   "outputs": [
    {
     "name": "stdout",
     "output_type": "stream",
     "text": [
      "덧셈 공부를 해봅시다!\n",
      "21 + 9 = 30\n",
      "잘했어요!\n",
      "77 + 31 = 108\n",
      "잘했어요!\n",
      "49 + 64 = 23\n",
      "틀렸어요. 하지만 다음번에는 잘할 수 있죠?\n",
      "총 맞힌 문제의 수 2\n",
      "2\n"
     ]
    }
   ],
   "source": [
    "#1st question \n",
    "\n",
    "import random #import module for random number\n",
    "\n",
    "print(\"덧셈 공부를 해봅시다!\")\n",
    "\n",
    "#count = 0 #variable to count correct problems\n",
    "\n",
    "for i in range(0,9999):\n",
    "    a = random.randrange(1,100) #create random int variable \n",
    "    b = random.randrange(1,100)\n",
    "    answer = a+b #calculate correct answer \n",
    "\n",
    "    print(a,\"+\",b,\"=\", end=' ') #show user the problem \n",
    "    user_input = int(input()) #create input variable \n",
    "    print(user_input) \n",
    "\n",
    "    if user_input == answer: #when correct \n",
    "        print(\"잘했어요!\")\n",
    "        #count = count + 1 #update count variable \n",
    "    else: #when incorrect \n",
    "        print(\"틀렸어요. 하지만 다음번에는 잘할 수 있죠?\")\n",
    "        #print(\"총 맞힌 문제의 수\",count) \n",
    "        print(\"총 맞힌 문제의 수\",i) #show num of correct problems\n",
    "        break "
   ]
  },
  {
   "cell_type": "code",
   "execution_count": 39,
   "metadata": {},
   "outputs": [
    {
     "name": "stdout",
     "output_type": "stream",
     "text": [
      "숫자 4개 입력(작성 예시: 1 2 3 4)\n",
      "불합격\n"
     ]
    }
   ],
   "source": [
    "#2nd question\n",
    "\n",
    "print(\"숫자 4개 입력(작성 예시: 1 2 3 4)\") \n",
    "\n",
    "x,y,w,z = input().split() #get input \n",
    "x,y,w,z = int(x), int(y), int(w), int(z) #convert input string to integer dtype\n",
    "\n",
    "avg_condition = (x+y+w+z) / 4 > 60 #define average condition\n",
    "min_condition = x>40 & y>40 & w>40 & z>40 #define min condition\n",
    "\n",
    "#print output  \n",
    "if avg_condition == True & min_condition == True: \n",
    "    print(\"합격\") #print 합격 when both conditions are met\n",
    "else: \n",
    "    print(\"불합격\")\n"
   ]
  },
  {
   "cell_type": "code",
   "execution_count": 9,
   "metadata": {},
   "outputs": [
    {
     "name": "stdout",
     "output_type": "stream",
     "text": [
      "주민 등록 번호를 입력하세요.(001212-4)\n",
      "990304-1\n",
      "당신의 성별은 여자이며,\n",
      "양 띠이다.\n"
     ]
    }
   ],
   "source": [
    "#3rd question \n",
    "\n",
    "print(\"주민 등록 번호를 입력하세요.(001212-4)\") \n",
    "user_input = input() #get id  \n",
    "print(user_input)  #prind id \n",
    "\n",
    "#get gender from id \n",
    "def print_gender(user_input):  \n",
    "    gender = user_input.split('-')[1]\n",
    "    if  gender ==1:\n",
    "        print(\"당신의 성별은 남자이며,\")\n",
    "    else: \n",
    "        print(\"당신의 성별은 여자이며,\")\n",
    "\n",
    "#get belt from id \n",
    "def print_belt(user_input): \n",
    "    birth_year = birth_year = user_input[0:2]\n",
    "    if birth_year==0:\n",
    "        print (\"원숭이 띠이다.\")\n",
    "\n",
    "    elif birth_year==1:\n",
    "        print(\"닭 띠이다.\")\n",
    "\n",
    "    elif birth_year==2:\n",
    "        print(\"개 띠이다.\")\n",
    "\n",
    "    elif birth_year==3:\n",
    "        print(\"돼지 띠이다.\")\n",
    "\n",
    "    elif birth_year==4:\n",
    "        print(\"쥐 띠이다.\")\n",
    "\n",
    "    elif birth_year==5:\n",
    "        print(\"소 띠이다.\")\n",
    "\n",
    "    elif birth_year==6:\n",
    "        print(\"범 띠이다.\")\n",
    "\n",
    "    elif birth_year==7:\n",
    "        print(\"토끼 띠이다.\")\n",
    "\n",
    "    elif birth_year==8:\n",
    "        print(\"용 띠이다.\")\n",
    "\n",
    "    elif birth_year==9:\n",
    "        print(\"뱀 띠이다.\")\n",
    "\n",
    "    elif birth_year==10:\n",
    "        print(\"말 띠이다.\")\n",
    "\n",
    "    else:\n",
    "        print(\"양 띠이다.\")\n",
    "\n",
    "#print output \n",
    "print_gender(user_input)\n",
    "print_belt(user_input)"
   ]
  },
  {
   "cell_type": "code",
   "execution_count": 6,
   "metadata": {},
   "outputs": [
    {
     "name": "stdout",
     "output_type": "stream",
     "text": [
      "###\n",
      "@@\n",
      "!\n"
     ]
    }
   ],
   "source": [
    "#4th question\n",
    "\n",
    "#define break conditions \n",
    "break_condition1 = 'x'\n",
    "break_condition2 = 'X'\n",
    "break_condition3 = 'ㅌ'\n",
    "\n",
    "#loop till break conditions are met \n",
    "while True: \n",
    "    user_input1 = input(\"숫자 입력(종료 : x)>>>\") #get input     \n",
    "\n",
    "    if user_input1 == break_condition1: #evaluate break condition\n",
    "        break \n",
    "    elif user_input1 == break_condition2: \n",
    "        break \n",
    "    elif user_input1 == break_condition3:\n",
    "        break \n",
    "    else: #print output when break conditions are not met \n",
    "        user_input2 = input(\"특수 문자>>>\")  \n",
    "        print(user_input2 * int(user_input1))\n"
   ]
  },
  {
   "cell_type": "code",
   "execution_count": 27,
   "metadata": {},
   "outputs": [
    {
     "name": "stdout",
     "output_type": "stream",
     "text": [
      "주소록 프로그램 시작\n",
      "------------\n",
      "[1]추가 [2]검색 [3]삭제 [4]변경 [5]전체 주소록 보기 [0]종료\n",
      "------------\n",
      "[1]추가 [2]검색 [3]삭제 [4]변경 [5]전체 주소록 보기 [0]종료\n",
      "수빈  1234\n",
      "------------\n",
      "[1]추가 [2]검색 [3]삭제 [4]변경 [5]전체 주소록 보기 [0]종료\n",
      "------------\n",
      "[1]추가 [2]검색 [3]삭제 [4]변경 [5]전체 주소록 보기 [0]종료\n",
      "수빈  1234\n",
      "지원  1111\n",
      "------------\n",
      "[1]추가 [2]검색 [3]삭제 [4]변경 [5]전체 주소록 보기 [0]종료\n",
      "------------\n",
      "[1]추가 [2]검색 [3]삭제 [4]변경 [5]전체 주소록 보기 [0]종료\n",
      "수빈  1234\n",
      "지원  1111\n",
      "규진 0000\n",
      "------------\n",
      "[1]추가 [2]검색 [3]삭제 [4]변경 [5]전체 주소록 보기 [0]종료\n",
      "수빈  1234\n",
      "지원  1111\n",
      "규진 0000\n",
      "------------\n",
      "[1]추가 [2]검색 [3]삭제 [4]변경 [5]전체 주소록 보기 [0]종료\n",
      "0000\n",
      "------------\n",
      "[1]추가 [2]검색 [3]삭제 [4]변경 [5]전체 주소록 보기 [0]종료\n"
     ]
    },
    {
     "ename": "KeyError",
     "evalue": "'수빈'",
     "output_type": "error",
     "traceback": [
      "\u001b[1;31m---------------------------------------------------------------------------\u001b[0m",
      "\u001b[1;31mKeyError\u001b[0m                                  Traceback (most recent call last)",
      "\u001b[1;32m<ipython-input-27-9efedb8d492b>\u001b[0m in \u001b[0;36m<module>\u001b[1;34m\u001b[0m\n\u001b[0;32m     25\u001b[0m     \u001b[1;32melif\u001b[0m \u001b[0mint\u001b[0m\u001b[1;33m(\u001b[0m\u001b[0muser_input_menu\u001b[0m\u001b[1;33m)\u001b[0m \u001b[1;33m==\u001b[0m \u001b[1;36m2\u001b[0m\u001b[1;33m:\u001b[0m\u001b[1;33m\u001b[0m\u001b[1;33m\u001b[0m\u001b[0m\n\u001b[0;32m     26\u001b[0m         \u001b[0muser_input_search\u001b[0m \u001b[1;33m=\u001b[0m \u001b[0minput\u001b[0m\u001b[1;33m(\u001b[0m\u001b[1;34m\"검색하고자 하는 이름 입력\"\u001b[0m\u001b[1;33m)\u001b[0m\u001b[1;33m\u001b[0m\u001b[1;33m\u001b[0m\u001b[0m\n\u001b[1;32m---> 27\u001b[1;33m         \u001b[0mprint\u001b[0m\u001b[1;33m(\u001b[0m\u001b[0mad_book\u001b[0m\u001b[1;33m[\u001b[0m\u001b[0muser_input_search\u001b[0m\u001b[1;33m]\u001b[0m\u001b[1;33m)\u001b[0m\u001b[1;33m\u001b[0m\u001b[1;33m\u001b[0m\u001b[0m\n\u001b[0m\u001b[0;32m     28\u001b[0m \u001b[1;33m\u001b[0m\u001b[0m\n\u001b[0;32m     29\u001b[0m     \u001b[1;32melif\u001b[0m \u001b[0mint\u001b[0m\u001b[1;33m(\u001b[0m\u001b[0muser_input_menu\u001b[0m\u001b[1;33m)\u001b[0m \u001b[1;33m==\u001b[0m\u001b[1;36m3\u001b[0m\u001b[1;33m:\u001b[0m\u001b[1;33m\u001b[0m\u001b[1;33m\u001b[0m\u001b[0m\n",
      "\u001b[1;31mKeyError\u001b[0m: '수빈'"
     ]
    }
   ],
   "source": [
    "#5th question \n",
    "\n",
    "#define break conditions \n",
    "break_condition1 = '0'\n",
    "break_condition2 = 'o'\n",
    "break_condition3 = 'ㅐ'\n",
    "\n",
    "#initialize dictionary\n",
    "ad_book = {} \n",
    "\n",
    "print(\"주소록 프로그램 시작\")\n",
    "\n",
    "while True: \n",
    "    print(\"------------\")\n",
    "    print(\"[1]추가 [2]검색 [3]삭제 [4]변경 [5]전체 주소록 보기 [0]종료\") \n",
    "    user_input_menu = input(\"메뉴를 입력하세요\") #get menu from user \n",
    "    \n",
    "    #evaluate break conditions  \n",
    "    if user_input_menu == break_condition1: \n",
    "        break \n",
    "    elif user_input_menu == break_condition2:\n",
    "        break \n",
    "    elif user_input_menu == break_condition3: \n",
    "        break \n",
    "\n",
    "    #add address \n",
    "    elif int(user_input_menu) == 1: \n",
    "         user_input_name = input(\"추가하고자 하는 이름 입력\")\n",
    "         user_input_ph = input(\"추가하고자 하는 연락처 입력\")\n",
    "         ad_book[user_input_name] = user_input_ph\n",
    "    \n",
    "    #search address\n",
    "    elif int(user_input_menu) == 2: \n",
    "        user_input_search = input(\"검색하고자 하는 이름 입력\")\n",
    "        print(ad_book[user_input_search])\n",
    "\n",
    "    #remove address \n",
    "    elif int(user_input_menu) ==3: \n",
    "        user_input_pop = input(\"삭제하고자 하는 이름 입력\")\n",
    "        ad_book.pop(user_input_pop)\n",
    "        print(\"찾는 이름은 없습니다.\")\n",
    "\n",
    "    #change address \n",
    "    elif int(user_input_menu) ==4:\n",
    "        user_input_change_key = input(\"변경하고자 하는 이름 입력\")\n",
    "        user_input_change_value = input(\"변경하고자 하는 연락처 입력\")\n",
    "        ad_book[user_input_change_key] = user_input_change_value\n",
    "        \n",
    "    #view whole address book \n",
    "    elif int(user_input_menu) == 5: \n",
    "        for k,v in ad_book.items(): \n",
    "            print(k,v)\n",
    "\n",
    "\n"
   ]
  },
  {
   "cell_type": "code",
   "execution_count": null,
   "metadata": {},
   "outputs": [],
   "source": []
  }
 ],
 "metadata": {
  "kernelspec": {
   "display_name": "Python 3.6.13 ('main')",
   "language": "python",
   "name": "python3"
  },
  "language_info": {
   "codemirror_mode": {
    "name": "ipython",
    "version": 3
   },
   "file_extension": ".py",
   "mimetype": "text/x-python",
   "name": "python",
   "nbconvert_exporter": "python",
   "pygments_lexer": "ipython3",
   "version": "3.6.13"
  },
  "orig_nbformat": 4,
  "vscode": {
   "interpreter": {
    "hash": "db9548a20e12d452852f55b260a67f1e6e9fa95700026e1461c4a4fede898931"
   }
  }
 },
 "nbformat": 4,
 "nbformat_minor": 2
}
