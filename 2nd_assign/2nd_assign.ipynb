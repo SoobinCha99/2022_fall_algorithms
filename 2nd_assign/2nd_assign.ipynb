{
 "cells": [
  {
   "cell_type": "code",
   "execution_count": 13,
   "metadata": {},
   "outputs": [
    {
     "name": "stdout",
     "output_type": "stream",
     "text": [
      "menu: [1]register [2]log in [3]delete account [0]exit program\n",
      "registered\n",
      "existing program\n"
     ]
    }
   ],
   "source": [
    "#1st question \n",
    "id_pw = {} #initiallize id_pw dictionary\n",
    "\n",
    "print(\"menu: [1]register [2]log in [3]delete account [0]exit program\")\n",
    "\n",
    "while True:\n",
    "    user_input_menu = input(\"select menu\") #get menu\n",
    "    user_input_menu = int(user_input_menu)\n",
    "    \n",
    "    #program exit menu\n",
    "    if user_input_menu == 0: \n",
    "        print(\"existing program\")\n",
    "        break \n",
    "    \n",
    "    #account register menu\n",
    "    elif user_input_menu == 1: \n",
    "        register_id = input(\"enter perfered id\") \n",
    "        if register_id in id_pw: #check for already existing account  \n",
    "            print(\"id already exist\")\n",
    "        else: \n",
    "            register_pw = input(\"enter perfered password\")\n",
    "            id_pw[register_id] = register_pw \n",
    "            print(\"registered\")\n",
    "\n",
    "    #login menu\n",
    "    elif user_input_menu == 2: \n",
    "        input_id = input(\"enter id\")\n",
    "        if input_id in id_pw: \n",
    "            input_pw = input(\"enter password\")\n",
    "            if input_pw == id_pw[input_id]:\n",
    "                print(\"log in sucessful\")\n",
    "            else: \n",
    "                print(\"wrong password\")\n",
    "        else: \n",
    "            print(\"non existing id\")\n",
    "    \n",
    "    #account delete menu\n",
    "    elif user_input_menu == 3: \n",
    "        delete_id = input(\"enter id to delete\")\n",
    "        if delete_id in id_pw: \n",
    "            delete_pw = input(\"enter password\")\n",
    "            if delete_pw == id_pw[delete_id]: \n",
    "                del id_pw[delete_id]\n",
    "                print(\"user account deleted\")\n",
    "            else: \n",
    "                print(\"worng password\")\n",
    "        else: \n",
    "            print(\"non existing id\")\n",
    "\n",
    "    "
   ]
  },
  {
   "cell_type": "code",
   "execution_count": 10,
   "metadata": {},
   "outputs": [
    {
     "name": "stdout",
     "output_type": "stream",
     "text": [
      "14\n",
      "well done\n",
      "13\n",
      "well done\n",
      "close, try again next time\n",
      "8.0\n",
      "2\n"
     ]
    }
   ],
   "source": [
    "#2nd question \n",
    "\n",
    "import random #import random module \n",
    "\n",
    "operator = {0:\"+\", 1:\"-\", 2:\"/\", 3:\"*\"} #dictionary for random operator  \n",
    "\n",
    "#lookup dict for calculation\n",
    "operation = {'+': lambda x, y: x + y,\n",
    "            '-': lambda x, y: x - y, \n",
    "            '/': lambda x, y: x / y,\n",
    "            '*': lambda x, y: x * y}\n",
    "\n",
    "count = 0 #variable for correct answers count \n",
    "\n",
    "user_settings = input(\"set integer limit\") #get user input for integer limit\n",
    "while True: \n",
    "    a = random.randrange(1,int(user_settings)) #get random int\n",
    "    b = random.randrange(1,int(user_settings))\n",
    "\n",
    "    operator_key = random.randrange(0,4) #get random operator \n",
    "\n",
    "    user_answer = input(\"what is {0}{1}{2}\".format(a,operator[operator_key],b)) #get user input \n",
    "\n",
    "    if int(user_answer) == operation[operator[operator_key]](a,b): #process when correct \n",
    "        print(operation[operator[operator_key]](a,b))\n",
    "        print(\"well done\")\n",
    "        count = count + 1 #count correct answers \n",
    "        \n",
    "    else:  #process when wrong\n",
    "        print(\"close, try again next time\")\n",
    "        print(operation[operator[operator_key]](a,b))\n",
    "        print(count)\n",
    "        break "
   ]
  },
  {
   "cell_type": "code",
   "execution_count": null,
   "metadata": {},
   "outputs": [],
   "source": []
  }
 ],
 "metadata": {
  "kernelspec": {
   "display_name": "Python 3.6.13 ('main')",
   "language": "python",
   "name": "python3"
  },
  "language_info": {
   "codemirror_mode": {
    "name": "ipython",
    "version": 3
   },
   "file_extension": ".py",
   "mimetype": "text/x-python",
   "name": "python",
   "nbconvert_exporter": "python",
   "pygments_lexer": "ipython3",
   "version": "3.6.13"
  },
  "orig_nbformat": 4,
  "vscode": {
   "interpreter": {
    "hash": "db9548a20e12d452852f55b260a67f1e6e9fa95700026e1461c4a4fede898931"
   }
  }
 },
 "nbformat": 4,
 "nbformat_minor": 2
}
